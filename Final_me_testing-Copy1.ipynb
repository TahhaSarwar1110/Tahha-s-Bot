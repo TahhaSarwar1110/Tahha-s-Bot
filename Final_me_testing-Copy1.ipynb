{
 "cells": [
  {
   "cell_type": "code",
   "execution_count": 1,
   "id": "4a288f90-e5e0-4739-8d29-532586e85490",
   "metadata": {},
   "outputs": [],
   "source": [
    "%load_ext dotenv"
   ]
  },
  {
   "cell_type": "code",
   "execution_count": 2,
   "id": "beb2202e-cc4f-4f8a-8b77-262d40536a5f",
   "metadata": {},
   "outputs": [],
   "source": [
    "%dotenv"
   ]
  },
  {
   "cell_type": "code",
   "execution_count": null,
   "id": "5ae0a38a-9922-4882-91c1-e8f01a9025ea",
   "metadata": {},
   "outputs": [
    {
     "name": "stderr",
     "output_type": "stream",
     "text": [
      "C:\\Users\\DELL\\AppData\\Local\\Temp\\ipykernel_9044\\4027641249.py:44: LangChainDeprecationWarning: Please see the migration guide at: https://python.langchain.com/docs/versions/migrating_memory/\n",
      "  chat_memory = ConversationSummaryMemory(llm=ChatOpenAI(), memory_key='message_log')\n"
     ]
    },
    {
     "name": "stdout",
     "output_type": "stream",
     "text": [
      "Chatbot is ready! Type 'exit' to end the conversation.\n"
     ]
    },
    {
     "name": "stdin",
     "output_type": "stream",
     "text": [
      "You:  I am sick. How do I request leave and delete my shift?\n"
     ]
    },
    {
     "name": "stdout",
     "output_type": "stream",
     "text": [
      "Taha's Bot: To request leave and delete your shift, follow these steps:\n",
      "\n",
      "1. Open the app and go to the Leave module.\n",
      "2. Click on the \"Request Leave\" button.\n",
      "3. Choose the \"Leave Type\".\n",
      "4. Select the dates for your sick leave.\n",
      "5. Submit the leave request.\n",
      "\n",
      "Once your request is approved by management, you will be removed from the shift. If you want to release your shift, go to the ShiftPlanning tab > My Schedule > click on the shift that you want to release > Can't work > Release Shift > enter reason and hit \"Continue\" > select potential cover(s) > Sent Request. Please note that as per the account settings configured by your management, you may not have authorization to drop or release shifts. In such a case, kindly reach out to your management for assistance.\n"
     ]
    },
    {
     "name": "stdin",
     "output_type": "stream",
     "text": [
      "You:  We would like for the custom url to be cau.humanity.com if that is a possible option instead of my first and last name.\n"
     ]
    },
    {
     "name": "stdout",
     "output_type": "stream",
     "text": [
      "Taha's Bot: Sorry, I don't know the answer. The document does not provide information on how to customize the URL for your Humanity account.\n"
     ]
    },
    {
     "name": "stdin",
     "output_type": "stream",
     "text": [
      "You:  We would like for the custom url to be cau.humanity.com if that is a possible option instead of my first and last name.\n"
     ]
    },
    {
     "name": "stdout",
     "output_type": "stream",
     "text": [
      "Taha's Bot: Sorry, I don't know the answer.\n"
     ]
    },
    {
     "name": "stdin",
     "output_type": "stream",
     "text": [
      "You:  Can we customize our url ?\n"
     ]
    },
    {
     "name": "stdout",
     "output_type": "stream",
     "text": [
      "Taha's Bot: Yes, to request a custom URL for your account, I recommend reaching out to the support team. They will be able to assist you with any URL customization options that may be available.\n"
     ]
    },
    {
     "name": "stdin",
     "output_type": "stream",
     "text": [
      "You:  Good morning. We have a temporary employee who has now become a permanent employee and has lost access to Humanity. The employees name is Bridget Orozco. The program has her email as... bridget-orozco+65dc1fbfeb6ea@idexx.com. Her real email was deactivated. Can you please deactivate the one I just listed and reactivate the following... bridget-orozco@idexx.com \n"
     ]
    },
    {
     "name": "stdout",
     "output_type": "stream",
     "text": [
      "Taha's Bot: Good morning. To deactivate the temporary email associated with Bridget Orozco, you need to navigate to 'Staff' then 'Disabled'. From there, find Bridget Orozco's Profile and select 'release this email'. To reactivate her with the correct email, you should follow the same steps but instead select 'Enable this employee'. This will verify her email address and confirm it in Humanity.\n"
     ]
    },
    {
     "name": "stdin",
     "output_type": "stream",
     "text": [
      "You:  I have two mobile phones. Where do I enter my second number in my profile?\n"
     ]
    },
    {
     "name": "stdout",
     "output_type": "stream",
     "text": [
      "Taha's Bot: To include a secondary mobile number, navigate to your profile > Edit Details > enter your secondary mobile number in the \"Home Phone\" field > then click \"Save Employee\". Please note that Humanity sends SMS notifications to only one mobile number, which also needs to be confirmed.\n"
     ]
    },
    {
     "name": "stdin",
     "output_type": "stream",
     "text": [
      "You:  I've recently moved to Australia. I've a new number and want to confirm it to receive SMS. How do I go about doing that? \n"
     ]
    },
    {
     "name": "stdout",
     "output_type": "stream",
     "text": [
      "Taha's Bot: To confirm your new mobile number to receive SMS notifications, you need to navigate to your profile settings. Click on the arrow icon next to your image at the top right, then select 'Profile'. From there, choose 'Edit Details' and enter your new mobile number. After entering your new number, hit 'Save Employee'. Please note that Humanity sends SMS notifications to only one mobile number, which also needs to be confirmed. However, SMS service is only available in the USA.\n"
     ]
    },
    {
     "name": "stdin",
     "output_type": "stream",
     "text": [
      "You:  We do not want the weekends to count when requesting leave for certain employees\n"
     ]
    },
    {
     "name": "stdout",
     "output_type": "stream",
     "text": [
      "Taha's Bot: The settings in Humanity are universal and apply to all employees. Therefore, it's not possible to exclude weekends from counting when requesting leave for certain employees.\n"
     ]
    },
    {
     "name": "stdin",
     "output_type": "stream",
     "text": [
      "You:  Can I add manually time sheet for other colleague. The colleague has forgot to do so\n"
     ]
    },
    {
     "name": "stdout",
     "output_type": "stream",
     "text": [
      "Taha's Bot: Yes, you can manually add a time sheet for your colleague. Here are the steps: \n",
      "\n",
      "1. Go to the Time Clock section. \n",
      "2. Click on Add Clock Time. \n",
      "3. Fill in the necessary details for the time sheet, such as the employee's name, date and time. \n",
      "4. Click on Add Clock Time. \n",
      "\n",
      "This will manually add the time sheet for the employee. Please note that you need to have the necessary permissions to do this. If you don't, you should contact your management.\n"
     ]
    },
    {
     "name": "stdin",
     "output_type": "stream",
     "text": [
      "You:  I am an employee. Can I add manually time sheet for other colleague. The colleague has forgot to do so\n"
     ]
    },
    {
     "name": "stdout",
     "output_type": "stream",
     "text": [
      "Taha's Bot: As an employee, you do not have the authority to add time sheets for other coworkers. Please contact your management and request that the time sheet be added manually.\n"
     ]
    }
   ],
   "source": [
    "# necessary libraries\n",
    "from langchain.memory import ConversationSummaryMemory\n",
    "from langchain_openai import ChatOpenAI\n",
    "from langchain_core.prompts import PromptTemplate\n",
    "from langchain_core.output_parsers import StrOutputParser\n",
    "from langchain_core.runnables import RunnablePassthrough, RunnableLambda\n",
    "from operator import itemgetter\n",
    "from langchain_core.runnables import chain\n",
    "\n",
    "# RAG setup libraries\n",
    "from langchain_openai.embeddings import OpenAIEmbeddings\n",
    "from langchain_community.vectorstores import Chroma\n",
    "from langchain_core.documents import Document\n",
    "from langchain_text_splitters.markdown import MarkdownHeaderTextSplitter\n",
    "from langchain_text_splitters.character import CharacterTextSplitter\n",
    "from langchain_community.document_loaders import Docx2txtLoader, PyPDFLoader\n",
    "\n",
    "\n",
    "page = PyPDFLoader('User Query.pdf')\n",
    "my_document = page.load()\n",
    "\n",
    "#header_splitter = MarkdownHeaderTextSplitter(\n",
    "   # headers_to_split_on=[(\"#\", \"Course Title\"), (\"##\", \"Lecture Title\")]\n",
    "#)\n",
    "#header_splitted_document = header_splitter.split_text(my_document[0].page_content)\n",
    "#for i in range(len(header_splitted_document)):\n",
    "    #header_splitted_document[i].page_content = ' '.join(header_splitted_document[i].page_content.split())\n",
    "\n",
    "character_splitter = CharacterTextSplitter(separator=\".\", chunk_size=500, chunk_overlap=50)\n",
    "character_splitted_documents = character_splitter.split_documents(my_document)\n",
    "for i in range(len(character_splitted_documents)):\n",
    "    character_splitted_documents[i].page_content = ' '.join(character_splitted_documents[i].page_content.split())\n",
    "\n",
    "embedding = OpenAIEmbeddings(model=\"text-embedding-ada-002\")\n",
    "vector_store = Chroma.from_documents(\n",
    "    embedding=embedding,\n",
    "    documents=character_splitted_documents,\n",
    "    persist_directory=\"./TCP_directory_1\"\n",
    ")\n",
    "\n",
    "retriever = vector_store.as_retriever(search_type='mmr', search_kwargs={'k': 3, 'lambda_multi': 0.7})\n",
    "\n",
    "#chatbot memory\n",
    "chat_memory = ConversationSummaryMemory(llm=ChatOpenAI(), memory_key='message_log')\n",
    "\n",
    "#prompt template for the chatbot\n",
    "TEMPLATE = \"\"\"\n",
    "The AI only answers strictly based on the provided document context. The AI should not hallucinate.\n",
    "The AI should Deliver well-structured, polished responses that enhance the overall user experience.\n",
    "If the answer is not available in the context, the AI truthfully responds: \"Sorry, I don't know the answer.\"\n",
    "\n",
    "Current Conversation:\n",
    "{message_log}\n",
    "\n",
    "Question Context:\n",
    "{context}\n",
    "\n",
    "Human:\n",
    "{question}\n",
    "\n",
    "AI:\n",
    "\"\"\"\n",
    "prompt_template = PromptTemplate.from_template(template=TEMPLATE)\n",
    "\n",
    "# ChatOpenAI instance\n",
    "chat = ChatOpenAI(\n",
    "    model=\"gpt-4\",\n",
    "    temperature=0,\n",
    "    max_tokens=250\n",
    ")\n",
    "\n",
    "#chain combining memory and RAG\n",
    "@chain\n",
    "def memory_rag_chain(question):\n",
    "    # Retrieve relevant documents from the vector store\n",
    "    retrieved_docs = retriever.invoke(question)\n",
    "    context = \"\\n\".join([doc.page_content for doc in retrieved_docs])\n",
    "\n",
    "    # If no relevant context is found, a \"Sorry\" response is returned\n",
    "    if not context.strip():\n",
    "        response = \"Sorry, I don't know the answer.\"\n",
    "        chat_memory.save_context(inputs={'input': question}, outputs={'output': response})\n",
    "        return response\n",
    "\n",
    "    # Combining memory and RAG for the prompt\n",
    "    chain = (\n",
    "        RunnablePassthrough.assign(\n",
    "            message_log=RunnableLambda(chat_memory.load_memory_variables) | itemgetter(\"message_log\"),\n",
    "            context=RunnablePassthrough()  # Pass the RAG context\n",
    "        )\n",
    "        | prompt_template\n",
    "        | chat\n",
    "        | StrOutputParser()\n",
    "    )\n",
    "\n",
    "    # Invoking the chain\n",
    "    response = chain.invoke({'question': question, 'context': context})\n",
    "\n",
    "    # Saving the interaction in memory\n",
    "    chat_memory.save_context(inputs={'input': question}, outputs={'output': response})\n",
    "\n",
    "    return response\n",
    "\n",
    "# Usage\n",
    "if __name__ == \"__main__\":\n",
    "    print(\"Chatbot is ready! Type 'exit' to end the conversation.\")\n",
    "    while True:\n",
    "        user_input = input(\"You: \")\n",
    "        if user_input.lower() in ['exit', 'quit']:\n",
    "            break\n",
    "        response = memory_rag_chain.invoke(user_input)\n",
    "        print(f\"Taha's Bot: {response}\")\n",
    "\n"
   ]
  },
  {
   "cell_type": "code",
   "execution_count": null,
   "id": "23eb94db-1a8c-4933-a26b-7201e1a60488",
   "metadata": {},
   "outputs": [],
   "source": []
  }
 ],
 "metadata": {
  "kernelspec": {
   "display_name": "langchain__env",
   "language": "python",
   "name": "langchain__env"
  },
  "language_info": {
   "codemirror_mode": {
    "name": "ipython",
    "version": 3
   },
   "file_extension": ".py",
   "mimetype": "text/x-python",
   "name": "python",
   "nbconvert_exporter": "python",
   "pygments_lexer": "ipython3",
   "version": "3.10.10"
  }
 },
 "nbformat": 4,
 "nbformat_minor": 5
}
